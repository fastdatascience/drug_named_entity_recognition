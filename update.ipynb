{
 "cells": [
  {
   "cell_type": "markdown",
   "id": "e2343c3f",
   "metadata": {},
   "source": [
    "![Fast Data Science logo](https://raw.githubusercontent.com/fastdatascience/brand/main/primary_logo.svg)\n",
    "\n",
    "<a href=\"https://fastdatascience.com\"><span align=\"left\">🌐 fastdatascience.com</span></a>\n",
    "<a href=\"https://www.linkedin.com/company/fastdatascience/\"><img align=\"left\" src=\"https://raw.githubusercontent.com//harmonydata/.github/main/profile/linkedin.svg\" alt=\"Fast Data Science | LinkedIn\" width=\"21px\"/></a>\n",
    "<a href=\"https://twitter.com/fastdatascienc1\"><img align=\"left\" src=\"https://raw.githubusercontent.com//harmonydata/.github/main/profile/x.svg\" alt=\"Fast Data Science | X\" width=\"21px\"/></a>\n",
    "<a href=\"https://www.instagram.com/fastdatascience/\"><img align=\"left\" src=\"https://raw.githubusercontent.com//harmonydata/.github/main/profile/instagram.svg\" alt=\"Fast Data Science | Instagram\" width=\"21px\"/></a>\n",
    "<a href=\"https://www.facebook.com/fastdatascienceltd\"><img align=\"left\" src=\"https://raw.githubusercontent.com//harmonydata/.github/main/profile/fb.svg\" alt=\"Fast Data Science | Facebook\" width=\"21px\"/></a>\n",
    "<a href=\"https://www.youtube.com/channel/UCLPrDH7SoRT55F6i50xMg5g\"><img align=\"left\" src=\"https://raw.githubusercontent.com//harmonydata/.github/main/profile/yt.svg\" alt=\"Fast Data Science | YouTube\" width=\"21px\"/></a>\n",
    "<a href=\"https://g.page/fast-data-science\"><img align=\"left\" src=\"https://raw.githubusercontent.com//harmonydata/.github/main/profile/google.svg\" alt=\"Fast Data Science | Google\" width=\"21px\"/></a>\n",
    "<a href=\"https://medium.com/fast-data-science\"><img align=\"left\" src=\"https://raw.githubusercontent.com//harmonydata/.github/main/profile/medium.svg\" alt=\"Fast Data Science | Medium\" width=\"21px\"/></a>\n",
    "<a href=\"https://mastodon.social/@fastdatascience\"><img align=\"left\" src=\"https://raw.githubusercontent.com//harmonydata/.github/main/profile/mastodon.svg\" alt=\"Fast Data Science | Mastodon\" width=\"21px\"/></a>\n",
    "\n",
    "## Drug named entity recognition Python library by Fast Data Science\n",
    "\n",
    "# Update script\n",
    "\n",
    "This script updates the vocabularies and prepares to re-release the Python package.\n",
    "\n",
    "\n",
    "```\n",
    "MIT License\n",
    "\n",
    "Copyright (c) 2023 Fast Data Science Ltd (https://fastdatascience.com)\n",
    "\n",
    "Maintainer: Thomas Wood\n",
    "\n",
    "Tutorial at https://fastdatascience.com/drug-named-entity-recognition-python-library/\n",
    "\n",
    "Permission is hereby granted, free of charge, to any person obtaining a copy\n",
    "of this software and associated documentation files (the \"Software\"), to deal\n",
    "in the Software without restriction, including without limitation the rights\n",
    "to use, copy, modify, merge, publish, distribute, sublicense, and/or sell\n",
    "copies of the Software, and to permit persons to whom the Software is\n",
    "furnished to do so, subject to the following conditions:\n",
    "\n",
    "The above copyright notice and this permission notice shall be included in all\n",
    "copies or substantial portions of the Software.\n",
    "\n",
    "THE SOFTWARE IS PROVIDED \"AS IS\", WITHOUT WARRANTY OF ANY KIND, EXPRESS OR\n",
    "IMPLIED, INCLUDING BUT NOT LIMITED TO THE WARRANTIES OF MERCHANTABILITY,\n",
    "FITNESS FOR A PARTICULAR PURPOSE AND NONINFRINGEMENT. IN NO EVENT SHALL THE\n",
    "AUTHORS OR COPYRIGHT HOLDERS BE LIABLE FOR ANY CLAIM, DAMAGES OR OTHER\n",
    "LIABILITY, WHETHER IN AN ACTION OF CONTRACT, TORT OR OTHERWISE, ARISING FROM,\n",
    "OUT OF OR IN CONNECTION WITH THE SOFTWARE OR THE USE OR OTHER DEALINGS IN THE\n",
    "SOFTWARE.\n",
    "```"
   ]
  },
  {
   "cell_type": "code",
   "execution_count": null,
   "id": "beace195",
   "metadata": {
    "scrolled": false
   },
   "outputs": [],
   "source": [
    "!cd src/drug_named_entity_recognition; python download_mesh_dump_and_extract_drug_names_and_synonyms.py; cd ../.."
   ]
  },
  {
   "cell_type": "code",
   "execution_count": null,
   "id": "dbdda389",
   "metadata": {},
   "outputs": [],
   "source": [
    "!cd src/drug_named_entity_recognition; python download_drugbank_vocabulary.py; cd ../.."
   ]
  },
  {
   "cell_type": "code",
   "execution_count": null,
   "id": "e8675335",
   "metadata": {},
   "outputs": [],
   "source": [
    "with open(\"src/drug_named_entity_recognition/__init__.py\", \"r\", encoding=\"utf-8\") as f:\n",
    "    text = f.read()"
   ]
  },
  {
   "cell_type": "code",
   "execution_count": null,
   "id": "a101249b",
   "metadata": {},
   "outputs": [],
   "source": [
    "import re"
   ]
  },
  {
   "cell_type": "code",
   "execution_count": null,
   "id": "4683dcc3",
   "metadata": {},
   "outputs": [],
   "source": [
    "init_py_lines = text.split(\"\\n\")\n",
    "for idx, line in list(enumerate(init_py_lines)):\n",
    "    if \"__version__\" in line:\n",
    "        old_version = re.sub(r'.+= \"|\"', \"\", line)\n",
    "        version_bits = old_version.split(\".\")\n",
    "        old_version_regex = r\"\\.\".join(version_bits)\n",
    "        version_bits[-1] = str(int(version_bits[-1]) + 1)\n",
    "        new_version = \".\".join(version_bits)\n",
    "        init_py_lines[idx] = re.sub(old_version, new_version, line)\n",
    "        \n",
    "        print (\"Old version\", old_version)\n",
    "        print (\"New version\", new_version)"
   ]
  },
  {
   "cell_type": "code",
   "execution_count": null,
   "id": "56e9e1a5",
   "metadata": {},
   "outputs": [],
   "source": [
    "with open(\"CITATION.cff\", \"r\", encoding=\"utf-8\") as f:\n",
    "    text = f.read()"
   ]
  },
  {
   "cell_type": "code",
   "execution_count": null,
   "id": "3f2ee0dd",
   "metadata": {},
   "outputs": [],
   "source": [
    "citation_lines = text.split(\"\\n\")\n",
    "for idx, line in list(enumerate(citation_lines)):\n",
    "    if line.startswith(\"version:\"):\n",
    "        citation_lines[idx] = re.sub(old_version_regex, new_version, line)"
   ]
  },
  {
   "cell_type": "code",
   "execution_count": null,
   "id": "d738dbed",
   "metadata": {},
   "outputs": [],
   "source": [
    "with open(\"pyproject.toml\", \"r\", encoding=\"utf-8\") as f:\n",
    "    text = f.read()"
   ]
  },
  {
   "cell_type": "code",
   "execution_count": null,
   "id": "82e56553",
   "metadata": {},
   "outputs": [],
   "source": [
    "pyproject_lines = text.split(\"\\n\")\n",
    "for idx, line in list(enumerate(pyproject_lines)):\n",
    "    if line.startswith(\"version\"):\n",
    "        pyproject_lines[idx] = re.sub(old_version_regex, new_version, line)"
   ]
  },
  {
   "cell_type": "code",
   "execution_count": null,
   "id": "34ec6596",
   "metadata": {},
   "outputs": [],
   "source": [
    "with open(\"README.md\", \"r\", encoding=\"utf-8\") as f:\n",
    "    text = f.read()"
   ]
  },
  {
   "cell_type": "code",
   "execution_count": null,
   "id": "976202e1",
   "metadata": {},
   "outputs": [],
   "source": [
    "readme_lines = text.split(\"\\n\")\n",
    "for idx, line in list(enumerate(readme_lines)):\n",
    "    if \"Version \" in line:\n",
    "        readme_lines[idx] = re.sub(\"Version \" + old_version_regex, \"Version \" + new_version, line)"
   ]
  },
  {
   "cell_type": "code",
   "execution_count": null,
   "id": "4584b9c2",
   "metadata": {},
   "outputs": [],
   "source": [
    "with open(\"src/drug_named_entity_recognition/__init__.py\", \"w\", encoding=\"utf-8\") as f:\n",
    "    f.write(\"\\n\".join(init_py_lines))"
   ]
  },
  {
   "cell_type": "code",
   "execution_count": null,
   "id": "23462417",
   "metadata": {},
   "outputs": [],
   "source": [
    "with open(\"CITATION.cff\", \"w\", encoding=\"utf-8\") as f:\n",
    "    f.write(\"\\n\".join(citation_lines))"
   ]
  },
  {
   "cell_type": "code",
   "execution_count": null,
   "id": "29981793",
   "metadata": {},
   "outputs": [],
   "source": [
    "with open(\"README.md\", \"w\", encoding=\"utf-8\") as f:\n",
    "    f.write(\"\\n\".join(readme_lines))"
   ]
  },
  {
   "cell_type": "code",
   "execution_count": null,
   "id": "b5ac0387",
   "metadata": {},
   "outputs": [],
   "source": [
    "with open(\"pyproject.toml\", \"w\", encoding=\"utf-8\") as f:\n",
    "    f.write(\"\\n\".join(pyproject_lines))"
   ]
  },
  {
   "cell_type": "code",
   "execution_count": null,
   "id": "6a84d0aa",
   "metadata": {},
   "outputs": [],
   "source": [
    "!git add src/drug_named_entity_recognition/__init__.py\n",
    "!git add CITATION.cff README.md\n",
    "!git add src/drug_named_entity_recognition/drugbank\\ vocabulary.csv\n",
    "!git add src/drug_named_entity_recognition/drugs_dictionary_mesh.csv"
   ]
  },
  {
   "cell_type": "code",
   "execution_count": null,
   "id": "1788b012",
   "metadata": {},
   "outputs": [],
   "source": [
    "!git commit -m \"Update Drugbank and MeSH\""
   ]
  },
  {
   "cell_type": "code",
   "execution_count": null,
   "id": "1ffccaef",
   "metadata": {},
   "outputs": [],
   "source": [
    "!git push"
   ]
  },
  {
   "cell_type": "code",
   "execution_count": null,
   "id": "dad20268",
   "metadata": {},
   "outputs": [],
   "source": [
    "#!gh release create \"v1.0.2\""
   ]
  }
 ],
 "metadata": {
  "kernelspec": {
   "display_name": "Python 3 (ipykernel)",
   "language": "python",
   "name": "python3"
  },
  "language_info": {
   "codemirror_mode": {
    "name": "ipython",
    "version": 3
   },
   "file_extension": ".py",
   "mimetype": "text/x-python",
   "name": "python",
   "nbconvert_exporter": "python",
   "pygments_lexer": "ipython3",
   "version": "3.11.3"
  }
 },
 "nbformat": 4,
 "nbformat_minor": 5
}
