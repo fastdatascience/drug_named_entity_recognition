{
  "nbformat": 4,
  "nbformat_minor": 0,
  "metadata": {
    "colab": {
      "provenance": [],
      "include_colab_link": true
    },
    "kernelspec": {
      "name": "python3",
      "display_name": "Python 3"
    },
    "language_info": {
      "name": "python"
    }
  },
  "cells": [
    {
      "cell_type": "markdown",
      "metadata": {
        "id": "view-in-github",
        "colab_type": "text"
      },
      "source": [
        "<a href=\"https://colab.research.google.com/github/fastdatascience/drug_named_entity_recognition/blob/main/drug_named_entity_recognition_example_walkthrough.ipynb\" target=\"_parent\"><img src=\"https://colab.research.google.com/assets/colab-badge.svg\" alt=\"Open In Colab\"/></a>"
      ]
    },
    {
      "cell_type": "markdown",
      "source": [
        "![Fast Data Science logo](https://raw.githubusercontent.com/fastdatascience/brand/main/primary_logo.svg)\n",
        "\n",
        "<a href=\"https://fastdatascience.com\"><span align=\"left\">🌐 fastdatascience.com</span></a>\n",
        "<a href=\"https://www.linkedin.com/company/fastdatascience/\"><img align=\"left\" src=\"https://raw.githubusercontent.com//harmonydata/.github/main/profile/linkedin.svg\" alt=\"Fast Data Science | LinkedIn\" width=\"21px\"/></a>\n",
        "<a href=\"https://twitter.com/fastdatascienc1\"><img align=\"left\" src=\"https://raw.githubusercontent.com//harmonydata/.github/main/profile/x.svg\" alt=\"Fast Data Science | X\" width=\"21px\"/></a>\n",
        "<a href=\"https://www.instagram.com/fastdatascience/\"><img align=\"left\" src=\"https://raw.githubusercontent.com//harmonydata/.github/main/profile/instagram.svg\" alt=\"Fast Data Science | Instagram\" width=\"21px\"/></a>\n",
        "<a href=\"https://www.facebook.com/fastdatascienceltd\"><img align=\"left\" src=\"https://raw.githubusercontent.com//harmonydata/.github/main/profile/fb.svg\" alt=\"Fast Data Science | Facebook\" width=\"21px\"/></a>\n",
        "<a href=\"https://www.youtube.com/channel/UCLPrDH7SoRT55F6i50xMg5g\"><img align=\"left\" src=\"https://raw.githubusercontent.com//harmonydata/.github/main/profile/yt.svg\" alt=\"Fast Data Science | YouTube\" width=\"21px\"/></a>\n",
        "<a href=\"https://g.page/fast-data-science\"><img align=\"left\" src=\"https://raw.githubusercontent.com//harmonydata/.github/main/profile/google.svg\" alt=\"Fast Data Science | Google\" width=\"21px\"/></a>\n",
        "<a href=\"https://medium.com/fast-data-science\"><img align=\"left\" src=\"https://raw.githubusercontent.com//harmonydata/.github/main/profile/medium.svg\" alt=\"Fast Data Science | Medium\" width=\"21px\"/></a>\n",
        "<a href=\"https://mastodon.social/@fastdatascience\"><img align=\"left\" src=\"https://raw.githubusercontent.com//harmonydata/.github/main/profile/mastodon.svg\" alt=\"Fast Data Science | Mastodon\" width=\"21px\"/></a>\n",
        "\n",
        "# Drug named entity recognition Python library by Fast Data Science\n",
        "\n",
        "Developed by Fast Data Science, https://fastdatascience.com\n",
        "\n",
        "Source code at https://github.com/fastdatascience/drug_named_entity_recognition\n",
        "\n",
        "Tutorial at https://fastdatascience.com/drug-named-entity-recognition-python-library/\n",
        "\n",
        "This is a lightweight Python library for finding drug names in a string, otherwise known as [named entity recognition (NER)](https://fastdatascience.com/named-entity-recognition/) and named entity linking.\n",
        "\n",
        "You can run this notebook in Google Colab: <a href=\"https://colab.research.google.com/github/fastdatascience/drug_named_entity_recognition/blob/main/drug_named_entity_recognition_example_walkthrough.ipynb\" target=\"_parent\"><img src=\"https://colab.research.google.com/assets/colab-badge.svg\" alt=\"Open In Colab\"/></a>\n",
        "\n",
        "This notebook shows how you can install and run Drug Named Entity Recognition.\n",
        "\n",
        "# 😊 Using Drug named entity recognition library directly from Google Sheets (no-code!)\n",
        "\n",
        "<img align=\"left\" alt=\"Google Sheets logo\" title=\"Google Sheets logo\" width=150 height=105  src=\"https://raw.githubusercontent.com/fastdatascience/drug_named_entity_recognition/main/google_sheets_logo_small.png\" />\n",
        "\n",
        "We have a no-code solution where you can [use the library directly from Google Sheets](https://fastdatascience.com/drug-name-recogniser) as the library has also been wrapped as a Google Sheets plugin.\n",
        "\n",
        "[Click here](https://www.youtube.com/watch?v=qab1Bv_YpYU) to watch a video of how the plugin works.\n",
        "\n",
        "You can install the plugin in Google Sheets [here](https://workspace.google.com/marketplace/app/drug_name_recogniser/463844408236).\n",
        "\n",
        "![my badge](https://badgen.net/badge/Status/In%20Development/orange)\n",
        "\n",
        "[![PyPI package](https://img.shields.io/badge/pip%20install-drug_named_entity_recognition-brightgreen)](https://pypi.org/project/drug-named-entity-recognition/)\n"
      ],
      "metadata": {
        "id": "dEAhNlpexeK_"
      }
    },
    {
      "cell_type": "markdown",
      "source": [
        "## Install the Drug named entity recognition Python library from Pypi"
      ],
      "metadata": {
        "id": "lcG2aGGGxqZD"
      }
    },
    {
      "cell_type": "code",
      "source": [
        "!pip install drug-named-entity-recognition"
      ],
      "metadata": {
        "colab": {
          "base_uri": "https://localhost:8080/"
        },
        "id": "jN5b7B-qzZlR",
        "outputId": "099b4723-f365-48fe-d1ea-20752fe187af"
      },
      "execution_count": 1,
      "outputs": [
        {
          "output_type": "stream",
          "name": "stdout",
          "text": [
            "Collecting drug-named-entity-recognition\n",
            "  Downloading drug_named_entity_recognition-1.0.2-py3-none-any.whl (1.0 MB)\n",
            "\u001b[2K     \u001b[90m━━━━━━━━━━━━━━━━━━━━━━━━━━━━━━━━━━━━━━━━\u001b[0m \u001b[32m1.0/1.0 MB\u001b[0m \u001b[31m5.5 MB/s\u001b[0m eta \u001b[36m0:00:00\u001b[0m\n",
            "\u001b[?25hInstalling collected packages: drug-named-entity-recognition\n",
            "Successfully installed drug-named-entity-recognition-1.0.2\n"
          ]
        }
      ]
    },
    {
      "cell_type": "code",
      "source": [
        "from drug_named_entity_recognition import find_drugs\n",
        "\n",
        "find_drugs(\"i bought some Prednisone\".split(\" \"))"
      ],
      "metadata": {
        "id": "YMDJuv-q7wq9",
        "colab": {
          "base_uri": "https://localhost:8080/"
        },
        "outputId": "b611f348-4da9-486f-9f47-cf275820ecf1"
      },
      "execution_count": 2,
      "outputs": [
        {
          "output_type": "execute_result",
          "data": {
            "text/plain": [
              "[({'name': 'Prednisone',\n",
              "   'synonyms': {'Cortan',\n",
              "    'Cortancyl',\n",
              "    'Cutason',\n",
              "    'Dacortin',\n",
              "    'Decortin',\n",
              "    'Decortisyl',\n",
              "    'Dehydrocortisone',\n",
              "    'Deltasone',\n",
              "    'Encorton',\n",
              "    'Encortone',\n",
              "    'Enkortolon',\n",
              "    'Kortancyl',\n",
              "    'Meticorten',\n",
              "    'Orasone',\n",
              "    'Panafcort',\n",
              "    'Panasol',\n",
              "    'Prednidib',\n",
              "    'Predniment',\n",
              "    'Prednisona',\n",
              "    'Prednisone',\n",
              "    'Prednisonum',\n",
              "    'Pronisone',\n",
              "    'Rayos',\n",
              "    'Rectodelt',\n",
              "    'Sone',\n",
              "    'Sterapred',\n",
              "    'Ultracorten',\n",
              "    'Winpred'},\n",
              "   'medline_plus_id': 'a601102',\n",
              "   'mesh_id': 'D018931',\n",
              "   'drugbank_id': 'DB00635'},\n",
              "  3,\n",
              "  3)]"
            ]
          },
          "metadata": {},
          "execution_count": 2
        }
      ]
    },
    {
      "cell_type": "markdown",
      "source": [
        "Example of the tool on a longer text with tokenisation with Regex (you could also use spaCy)"
      ],
      "metadata": {
        "id": "I5kvEmr7z1mm"
      }
    },
    {
      "cell_type": "code",
      "source": [
        "long_text = '''\n",
        "None of the below text is medical advice and is only provided as an example to test the tool.\n",
        "\n",
        "Dabigatran, also referred to as Pradaxa, is an anticoagulant that helps prevent blood clots. It works by blocking thrombin, an enzyme that helps blood clot. Dabigatran is available in tablet form and is taken by mouth. It is used to treat or prevent blood clots in the legs, lungs, and brain, and to reduce the risk of death for people with atrial fibrillation (a heart rhythm disorder).\n",
        "\n",
        "Prednisone is a corticosteroid medication that helps reduce inflammation. It is available in tablet form and is taken by mouth. Prednisone is a synthetic version of cortisol, a hormone produced by the adrenal glands. It is used to treat a variety of conditions, including rheumatoid arthritis, asthma, lupus, and ulcerative colitis.\n",
        "\n",
        "Actemra (tocilizumab) is an interleukin-6 (IL-6) receptor antagonist. It works by blocking the action of IL-6, a protein that helps regulate the immune system. Actemra is available in injection form and is given subcutaneously (under the skin) or intravenously (into the vein). It is used to treat rheumatoid arthritis, giant cell arteritis, and systemic lupus erythematosus.\n",
        "\n",
        "How are these medications related?\n",
        "\n",
        "Dabigatran and prednisone are not typically used together. However, Actemra and prednisone can be used together to treat rheumatoid arthritis and other autoimmune diseases. Actemra works to suppress the immune system, while prednisone helps to reduce inflammation.\n",
        "\n",
        "The combination of Actemra and prednisone can be effective in managing symptoms of autoimmune diseases, but it is important to be aware of the potential risks. These risks include an increased risk of infection, bleeding, and side effects from both medications.\n",
        "\n",
        "It is important to talk to your doctor about the risks and benefits of taking any medication, including dabigatran, prednisone, and Actemra.\n",
        "\n",
        "The above text is not medical advice.\n",
        "'''"
      ],
      "metadata": {
        "id": "HNQ52SGYy65U"
      },
      "execution_count": 4,
      "outputs": []
    },
    {
      "cell_type": "code",
      "source": [
        "import re\n",
        "PATTERN = r\"\\w+\"\n",
        "tokens = re.findall(PATTERN, long_text)\n",
        "find_drugs(tokens)"
      ],
      "metadata": {
        "colab": {
          "base_uri": "https://localhost:8080/"
        },
        "id": "SSbsb4ulzdWs",
        "outputId": "15e85f99-ec5c-4405-928a-b3bc376a2b17"
      },
      "execution_count": 7,
      "outputs": [
        {
          "output_type": "execute_result",
          "data": {
            "text/plain": [
              "[({'name': 'Dabigatran',\n",
              "   'synonyms': {'Dabigatran', 'Pradax', 'Pradaxa', 'Prazaxa'},\n",
              "   'medline_plus_id': 'a610024',\n",
              "   'nhs_url': 'https://www.nhs.uk/medicines/dabigatran',\n",
              "   'wikipedia_url': 'https://en.wikipedia.org/wiki/Dabigatran',\n",
              "   'mesh_id': 'D000991',\n",
              "   'drugbank_id': 'DB14726'},\n",
              "  19,\n",
              "  19),\n",
              " ({'name': 'Dabigatran',\n",
              "   'synonyms': {'Dabigatran', 'Pradax', 'Pradaxa', 'Prazaxa'},\n",
              "   'medline_plus_id': 'a610024',\n",
              "   'nhs_url': 'https://www.nhs.uk/medicines/dabigatran',\n",
              "   'wikipedia_url': 'https://en.wikipedia.org/wiki/Dabigatran',\n",
              "   'mesh_id': 'D000991',\n",
              "   'drugbank_id': 'DB14726'},\n",
              "  24,\n",
              "  24),\n",
              " ({'name': 'Dabigatran',\n",
              "   'synonyms': {'Dabigatran', 'Pradax', 'Pradaxa', 'Prazaxa'},\n",
              "   'medline_plus_id': 'a610024',\n",
              "   'nhs_url': 'https://www.nhs.uk/medicines/dabigatran',\n",
              "   'wikipedia_url': 'https://en.wikipedia.org/wiki/Dabigatran',\n",
              "   'mesh_id': 'D000991',\n",
              "   'drugbank_id': 'DB14726'},\n",
              "  44,\n",
              "  44),\n",
              " ({'name': 'Prednisone',\n",
              "   'synonyms': {'Cortan',\n",
              "    'Cortancyl',\n",
              "    'Cutason',\n",
              "    'Dacortin',\n",
              "    'Decortin',\n",
              "    'Decortisyl',\n",
              "    'Dehydrocortisone',\n",
              "    'Deltasone',\n",
              "    'Encorton',\n",
              "    'Encortone',\n",
              "    'Enkortolon',\n",
              "    'Kortancyl',\n",
              "    'Meticorten',\n",
              "    'Orasone',\n",
              "    'Panafcort',\n",
              "    'Panasol',\n",
              "    'Prednidib',\n",
              "    'Predniment',\n",
              "    'Prednisona',\n",
              "    'Prednisone',\n",
              "    'Prednisonum',\n",
              "    'Pronisone',\n",
              "    'Rayos',\n",
              "    'Rectodelt',\n",
              "    'Sone',\n",
              "    'Sterapred',\n",
              "    'Ultracorten',\n",
              "    'Winpred'},\n",
              "   'medline_plus_id': 'a601102',\n",
              "   'mesh_id': 'D018931',\n",
              "   'drugbank_id': 'DB00635'},\n",
              "  86,\n",
              "  86),\n",
              " ({'name': 'Prednisone',\n",
              "   'synonyms': {'Cortan',\n",
              "    'Cortancyl',\n",
              "    'Cutason',\n",
              "    'Dacortin',\n",
              "    'Decortin',\n",
              "    'Decortisyl',\n",
              "    'Dehydrocortisone',\n",
              "    'Deltasone',\n",
              "    'Encorton',\n",
              "    'Encortone',\n",
              "    'Enkortolon',\n",
              "    'Kortancyl',\n",
              "    'Meticorten',\n",
              "    'Orasone',\n",
              "    'Panafcort',\n",
              "    'Panasol',\n",
              "    'Prednidib',\n",
              "    'Predniment',\n",
              "    'Prednisona',\n",
              "    'Prednisone',\n",
              "    'Prednisonum',\n",
              "    'Pronisone',\n",
              "    'Rayos',\n",
              "    'Rectodelt',\n",
              "    'Sone',\n",
              "    'Sterapred',\n",
              "    'Ultracorten',\n",
              "    'Winpred'},\n",
              "   'medline_plus_id': 'a601102',\n",
              "   'mesh_id': 'D018931',\n",
              "   'drugbank_id': 'DB00635'},\n",
              "  106,\n",
              "  106),\n",
              " ({'name': 'Tocilizumab',\n",
              "   'synonyms': {'Actemra', 'Atlizumab', 'Tocilizumab'},\n",
              "   'medline_plus_id': 'a611004',\n",
              "   'wikipedia_url': 'https://en.wikipedia.org/wiki/Tocilizumab',\n",
              "   'drugbank_id': 'DB06273'},\n",
              "  137,\n",
              "  137),\n",
              " ({'name': 'Tocilizumab',\n",
              "   'synonyms': {'Actemra', 'Atlizumab', 'Tocilizumab'},\n",
              "   'medline_plus_id': 'a611004',\n",
              "   'wikipedia_url': 'https://en.wikipedia.org/wiki/Tocilizumab',\n",
              "   'drugbank_id': 'DB06273'},\n",
              "  164,\n",
              "  164),\n",
              " ({'name': 'Dabigatran',\n",
              "   'synonyms': {'Dabigatran', 'Pradax', 'Pradaxa', 'Prazaxa'},\n",
              "   'medline_plus_id': 'a610024',\n",
              "   'nhs_url': 'https://www.nhs.uk/medicines/dabigatran',\n",
              "   'wikipedia_url': 'https://en.wikipedia.org/wiki/Dabigatran',\n",
              "   'mesh_id': 'D000991',\n",
              "   'drugbank_id': 'DB14726'},\n",
              "  201,\n",
              "  201),\n",
              " ({'name': 'Tocilizumab',\n",
              "   'synonyms': {'Actemra', 'Atlizumab', 'Tocilizumab'},\n",
              "   'medline_plus_id': 'a611004',\n",
              "   'wikipedia_url': 'https://en.wikipedia.org/wiki/Tocilizumab',\n",
              "   'drugbank_id': 'DB06273'},\n",
              "  210,\n",
              "  210),\n",
              " ({'name': 'Ciclosporin',\n",
              "   'synonyms': {'Ciclosporin', 'Neoral', 'Restasis', 'Sandimmune', 'other'},\n",
              "   'wikipedia_url': 'https://en.wikipedia.org/wiki/Ciclosporin'},\n",
              "  222,\n",
              "  222),\n",
              " ({'name': 'Chloroquine',\n",
              "   'synonyms': {'Aralen',\n",
              "    'Arechine',\n",
              "    'Arequin',\n",
              "    'Chingamin',\n",
              "    'Chloraquine',\n",
              "    'Chlorochin',\n",
              "    'Chloroquina',\n",
              "    'Chloroquine',\n",
              "    'Chloroquinium',\n",
              "    'Chloroquinum',\n",
              "    'Cloroquina',\n",
              "    'Khingamin',\n",
              "    'Nivaquine',\n",
              "    'other'},\n",
              "   'medline_plus_id': 'a682318',\n",
              "   'wikipedia_url': 'https://en.wikipedia.org/wiki/Chloroquine',\n",
              "   'mesh_id': 'D018501',\n",
              "   'drugbank_id': 'DB00608'},\n",
              "  222,\n",
              "  222),\n",
              " ({'name': 'Tocilizumab',\n",
              "   'synonyms': {'Actemra', 'Atlizumab', 'Tocilizumab'},\n",
              "   'medline_plus_id': 'a611004',\n",
              "   'wikipedia_url': 'https://en.wikipedia.org/wiki/Tocilizumab',\n",
              "   'drugbank_id': 'DB06273'},\n",
              "  225,\n",
              "  225),\n",
              " ({'name': 'Tocilizumab',\n",
              "   'synonyms': {'Actemra', 'Atlizumab', 'Tocilizumab'},\n",
              "   'medline_plus_id': 'a611004',\n",
              "   'wikipedia_url': 'https://en.wikipedia.org/wiki/Tocilizumab',\n",
              "   'drugbank_id': 'DB06273'},\n",
              "  241,\n",
              "  241),\n",
              " ({'name': 'Tocilizumab',\n",
              "   'synonyms': {'Actemra', 'Atlizumab', 'Tocilizumab'},\n",
              "   'medline_plus_id': 'a611004',\n",
              "   'wikipedia_url': 'https://en.wikipedia.org/wiki/Tocilizumab',\n",
              "   'drugbank_id': 'DB06273'},\n",
              "  300,\n",
              "  300)]"
            ]
          },
          "metadata": {},
          "execution_count": 7
        }
      ]
    }
  ]
}